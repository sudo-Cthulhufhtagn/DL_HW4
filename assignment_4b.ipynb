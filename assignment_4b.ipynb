{
  "cells": [
    {
      "cell_type": "markdown",
      "metadata": {
        "colab_type": "text",
        "id": "view-in-github"
      },
      "source": [
        "<a href=\"https://colab.research.google.com/github/sudo-Cthulhufhtagn/DL_HW4/blob/master/assignment_4b.ipynb\" target=\"_parent\"><img src=\"https://colab.research.google.com/assets/colab-badge.svg\" alt=\"Open In Colab\"/></a>"
      ]
    },
    {
      "cell_type": "markdown",
      "metadata": {
        "id": "aJ_pmgxvGur9"
      },
      "source": [
        "# Assignment 4b - Graph Convolutional Networks\n",
        "## Deep Learning Course - Vrije Universiteit Amsterdam, 2022"
      ]
    },
    {
      "cell_type": "markdown",
      "metadata": {
        "id": "mEneMITS2agU"
      },
      "source": [
        "#### Instructions on how to use this notebook:\n",
        "\n",
        "This notebook is hosted on Google Colab. To be able to work on it, you have to create your own copy. Go to *File* and select *Save a copy in Drive*.\n",
        "\n",
        "You can also avoid using Colab entirely, and download the notebook to run it on your own machine. If you choose this, go to *File* and select *Download .ipynb*.\n",
        "\n",
        "The advantage of using Colab is that you can use a GPU. You can complete this assignment with a CPU, but it will take a bit longer. Furthermore, we encourage you to train using the GPU not only for faster training, but also to get experience with this setting. This includes moving models and tensors to the GPU and back. This experience is very valuable because for many interesting models and large datasets (like large CNNs for ImageNet, or Transformer models trained on Wikipedia), training on GPU is the only feasible way.\n",
        "\n",
        "The default Colab runtime does not have a GPU. To change this, go to *Runtime - Change runtime type*, and select *GPU* as the hardware accelerator. The GPU that you get changes according to what resources are available at the time, and its memory can go from a 5GB, to around 18GB if you are lucky. If you are curious, you can run the following in a code cell to check:\n",
        "\n",
        "```sh\n",
        "!nvidia-smi\n",
        "```\n",
        "\n",
        "Note that despite the name, Google Colab does  not support collaborative work without issues. When two or more people edit the notebook concurrently, only one version will be saved. You can choose to do group programming with one person sharing the screen with the others, or make multiple copies of the notebook to work concurrently.\n",
        "\n",
        "**Submission:** Upload your notebook in .ipynb format to Canvas. The code and answers to the questions in the notebook are sufficient, no separate report is expected."
      ]
    },
    {
      "cell_type": "code",
      "execution_count": 463,
      "metadata": {
        "colab": {
          "base_uri": "https://localhost:8080/"
        },
        "id": "lBgoJIpdLI2Y",
        "outputId": "43094ceb-3a46-48ab-a7d7-6d9c137573fe"
      },
      "outputs": [
        {
          "name": "stdout",
          "output_type": "stream",
          "text": [
            "/bin/bash: line 1: nvidia-smi: command not found\n"
          ]
        }
      ],
      "source": [
        "!nvidia-smi"
      ]
    },
    {
      "cell_type": "markdown",
      "metadata": {
        "id": "tsdc7fDp40rQ"
      },
      "source": [
        "### Introduction\n",
        "\n",
        "Graphs are very useful data structures that allow us to represent sets of entities and the way they are related among each other. In a graph, entities are also known as *nodes*, and any link between entities is also called an *edge*.\n",
        "\n",
        "Examples of real world objects that can be modeled as graphs are social networks, where entities are people and relations denote friendship; and molecules, where entities are atoms and relations indicate a bond between them.\n",
        "\n",
        "There has been increased interest in the recent years in the application of deep learning architectures to graph-structured data, for tasks like predicting missing relations between entities, classifying entities, and classifying graphs. This interest has been spurred by the introduction of Graph Convolutional Networks (GCNs).\n",
        "\n",
        "In this assignment, you will implement and experiment with one of the first versions of the GCN, proposed by Thomas Kipf and Max Welling in their 2017 paper, [Semi-supervised Classification with Graph Convolutional Networks](https://arxiv.org/abs/1609.02907). In particular, the goals of this assignment are to\n",
        "\n",
        "- Understand how GCNs are formulated\n",
        "- Implement the GCN using PyTorch\n",
        "- Train and evaluate a model for semi-supervised node classification in citation networks\n",
        "- Train and evaluate a model for binary classification of molecules"
      ]
    },
    {
      "cell_type": "markdown",
      "metadata": {
        "id": "RvsuVNczG6pP"
      },
      "source": [
        "### Representing graphs\n",
        "\n",
        "Suppose we have the following graph:\n",
        "\n",
        "<img src=\"https://raw.githubusercontent.com/dfdazac/dlvu-a5/main/img/01-graph.png\" width=\"200\">\n",
        "\n",
        "This is an undirected graph (since the edges have no specified direction) with 4 nodes. One way to represent the connectivity structure of the graph is by means of the **adjacency matrix**. The $i$-th row of the matrix contains a 1 in the $j$-th column, if nodes $i$ and $j$ are connected. For an undirected graph like the one above, this means that the adjacency matrix\n",
        "\n",
        "- Is symmetric (e.g. an edge between 0 and 2 is equivalent as an edge between 2 and 0)\n",
        "- Is square, of size $n\\times n$ where $n$ is the number of nodes\n",
        "\n",
        "The adjacency matrix for the graph above is then the following:\n",
        "\n",
        "$$\n",
        "A =\n",
        "\\begin{bmatrix}\n",
        "0 & 0 & 1 & 0 \\\\\n",
        "0 & 0 & 1 & 0 \\\\\n",
        "1 & 1 & 0 & 1 \\\\\n",
        "0 & 0 & 1 & 0\n",
        "\\end{bmatrix}\n",
        "$$\n",
        "\n",
        "A second matrix of interest is the **degree matrix**. This is a diagonal matrix where the $i$-th element of the diagonal indicates the number of edges connected to node $i$. Note that these can be obtained from $A$ by summing across the columns, or the rows. For our example, the degree matrix is\n",
        "\n",
        "$$\n",
        "D = \\begin{bmatrix}\n",
        "1 & 0 & 0 & 0 \\\\\n",
        "0 & 1 & 0 & 0 \\\\\n",
        "0 & 0 & 3 & 0 \\\\\n",
        "0 & 0 & 0 & 1\n",
        "\\end{bmatrix}\n",
        "$$\n",
        "\n",
        "For specific applications, each node in the graph will have an associated vector of features $x\\in\\mathbb{R}^c$. If our graph is a social network, then the vector of features can contain information like age, location, and musical tastes, in a specific numeric format. In the case of a molecule, the node could represent an atom and have features like the atomic mass, etc. We can lay out the features in a matrix $X\\in\\mathbb{R}^{n\\times c}$, so that the feature vector for node $i$ is in the $i$-th row."
      ]
    },
    {
      "cell_type": "markdown",
      "metadata": {
        "id": "zCEQ2ffzHCf2"
      },
      "source": [
        "### Loading a citation network\n",
        "\n",
        "To move to a real world example, we will start with the Cora dataset. This dataset represents a citation network, where nodes are scientific publications, edges denote citations between them, and features are a [bag-of-words](https://en.wikipedia.org/wiki/Bag-of-words_model) extracted from their contents.\n",
        "\n",
        "This graph contains labels for nodes, that represent a specific topic. We will use these for a node classification task.\n",
        "\n",
        "To easily load it, we will use [PyTorch Geometric](https://pytorch-geometric.readthedocs.io/en/latest/index.html) (PyG), a deep learning library for graph-structured data."
      ]
    },
    {
      "cell_type": "code",
      "execution_count": 1,
      "metadata": {
        "id": "Yd2bTEBADt-a"
      },
      "outputs": [],
      "source": [
        "# Install PyTorch Geometric\n",
        "import torch\n",
        "try:\n",
        "    import torch_geometric\n",
        "except ModuleNotFoundError:\n",
        "    # Installing torch geometric packages with specific CUDA+PyTorch version.\n",
        "    # See https://pytorch-geometric.readthedocs.io/en/latest/notes/installation.html for details\n",
        "    TORCH = torch.__version__.split('+')[0]\n",
        "    CUDA = 'cu' + torch.version.cuda.replace('.','')\n",
        "\n",
        "    !pip install torch-scatter     -f https://pytorch-geometric.com/whl/torch-{TORCH}+{CUDA}.html\n",
        "    !pip install torch-sparse      -f https://pytorch-geometric.com/whl/torch-{TORCH}+{CUDA}.html\n",
        "    !pip install torch-geometric\n",
        "    import torch_geometric"
      ]
    },
    {
      "cell_type": "markdown",
      "metadata": {
        "id": "V0Nvh_-qEo1q"
      },
      "source": [
        "We can now use the library to download and import the dataset. Initializing the `Planetoid` class returns a `Dataset` object that can contain multiple graphs. In this task we will only use the `Cora` dataset (the citation network) and hence, we will select only the first element."
      ]
    },
    {
      "cell_type": "code",
      "execution_count": 31,
      "metadata": {
        "id": "vuOvwhsHD2YK"
      },
      "outputs": [],
      "source": [
        "from torch_geometric.datasets import Planetoid\n",
        "data = Planetoid(root='data/Planetoid', name='Cora')[0]"
      ]
    },
    {
      "cell_type": "markdown",
      "metadata": {
        "id": "v4WZkoiHFyZm"
      },
      "source": [
        "\n",
        "#### Question 1 (0.25 pt)\n",
        "\n",
        "The `data` object is an instance of the `Data` class in PyG. Check the [documentation](https://pytorch-geometric.readthedocs.io/en/latest/modules/data.html) and report the following properties of the graph:\n",
        "\n",
        "- Number of nodes\n",
        "- Number of edges\n",
        "- The dimension $c$ of the feature vectors $x\\in\\mathbb{R}^c$\n",
        "- The number of targets for the classification task"
      ]
    },
    {
      "cell_type": "code",
      "execution_count": 32,
      "metadata": {
        "colab": {
          "base_uri": "https://localhost:8080/"
        },
        "id": "1vbywsap_ED3",
        "outputId": "f88ba198-0ccb-4550-fea8-88f0e74c62ad"
      },
      "outputs": [
        {
          "name": "stdout",
          "output_type": "stream",
          "text": [
            "Number of nodes: 2708,\n",
            "Number of edges: 10556,\n",
            "Number of features per node: 1433,\n"
          ]
        }
      ],
      "source": [
        "print(f\"\"\"Number of nodes: {data.num_nodes},\n",
        "Number of edges: {data.num_edges},\n",
        "Number of features per node: {data.num_features},\\\n",
        "\"\"\")"
      ]
    },
    {
      "cell_type": "code",
      "execution_count": 33,
      "metadata": {
        "colab": {
          "base_uri": "https://localhost:8080/"
        },
        "id": "QrherXVt_ED4",
        "outputId": "e6e11b98-566c-49c4-d2ad-ea2347b0b62a"
      },
      "outputs": [
        {
          "name": "stdout",
          "output_type": "stream",
          "text": [
            "Number of unique target: 7, total number of targets: 2708\n"
          ]
        }
      ],
      "source": [
        "print(f\"Number of unique target: {len(data.y.unique())}, total number of targets: {len(data.y)}\")\n",
        "# since the question is vague, here is the vague answer. Either number of unique labels or toatl number of labels"
      ]
    },
    {
      "cell_type": "markdown",
      "metadata": {
        "id": "G4DrGDAuJ2YO"
      },
      "source": [
        "#### Question 2 (0.25 pt)\n",
        "\n",
        "In PyG, edges are provided in a tensor of shape (2, number of edges). You can access it via `data.edge_index`. Each column in this tensor contains the IDs for two nodes that are connected in the graph.\n",
        "\n",
        "We saw that in an undirected graph, an edge between nodes $i$ and $j$ adds a value of 1 to positions $(i, j)$ and $(j, i)$ of the adjacency matrix. Is this also true for the edge index? That is, if there is an edge $(i, j)$ in `data.edge_index`, is there also an edge for $(j, i)$? This is important to know for the next steps of the implementation."
      ]
    },
    {
      "cell_type": "code",
      "execution_count": 34,
      "metadata": {
        "colab": {
          "base_uri": "https://localhost:8080/"
        },
        "id": "EFkcwqAZ_ED4",
        "outputId": "5bacb58a-ebeb-4671-8c2c-07c1f111d7f4"
      },
      "outputs": [
        {
          "name": "stdout",
          "output_type": "stream",
          "text": [
            "Match found!\n"
          ]
        }
      ],
      "source": [
        "inverse_index = data.edge_index.numpy()[::-1]\n",
        "# inverse_index = torch.from_numpy(inverse_index)\n",
        "match = False\n",
        "data_forward = data.edge_index.numpy()\n",
        "for i in range(len(data.edge_index[0])):\n",
        "    for j in range(len(data.edge_index[0])):\n",
        "        if (data_forward.T[i] == inverse_index.T[j]).all():\n",
        "            print('Match found!')\n",
        "            match = True\n",
        "    if match:\n",
        "        break"
      ]
    },
    {
      "cell_type": "code",
      "execution_count": 35,
      "metadata": {
        "id": "jTRfNxibarRZ"
      },
      "outputs": [],
      "source": [
        "# Your answer here\n",
        "# Yes, the graph is undirected."
      ]
    },
    {
      "cell_type": "markdown",
      "metadata": {
        "id": "YOpS3QTYiOqp"
      },
      "source": [
        "#### Question 3 (0.5 pt)\n",
        "\n",
        "In graphs, especially large ones, the adjacency matrix is **sparse**: most entries are zero. Sparse matrices allow for efficient storage and computation.\n",
        "\n",
        "To prepare and pre-process sparse matrices, we will use [`scipy.sparse`](https://docs.scipy.org/doc/scipy/reference/sparse.html). Once the matrices are ready, we will convert them to PyTorch tensors.\n",
        "\n",
        "We will use the [Sparse COO format](https://en.wikipedia.org/wiki/Sparse_matrix#Coordinate_list_(COO)). We encourage you to first get familiar with how it works after continuing with the assignment.\n",
        "\n",
        "- Use the [`scipy.sparse.coo_matrix()`](https://docs.scipy.org/doc/scipy/reference/generated/scipy.sparse.coo_matrix.html) function to build the adjacency matrix. Think of what arguments are needed, and how you can obtain them from the graph data loaded above.\n",
        "- Use the `sum()` method of sparse matrices, together with `scipy.sparse.diags()`, to compute the degree matrix using the definition above.\n",
        "\n",
        "Both resulting matrices must be sparse of type `float32`."
      ]
    },
    {
      "cell_type": "code",
      "execution_count": 36,
      "metadata": {
        "id": "z4rTXaGc_ED6"
      },
      "outputs": [],
      "source": [
        "import scipy.sparse as sp\n",
        "import numpy as np"
      ]
    },
    {
      "cell_type": "code",
      "execution_count": 37,
      "metadata": {
        "id": "iFrpq_sD_ED6"
      },
      "outputs": [],
      "source": [
        "triplet = data.edge_index.T"
      ]
    },
    {
      "cell_type": "code",
      "execution_count": 38,
      "metadata": {
        "id": "Wz7ibPGM_ED6"
      },
      "outputs": [],
      "source": [
        "# Your answer here\n",
        "A = sp.coo_matrix((np.ones(len(triplet)), (triplet[:,0].T, triplet[:,1].T)), shape=(2708, 2708)).todense()"
      ]
    },
    {
      "cell_type": "code",
      "execution_count": 39,
      "metadata": {
        "colab": {
          "base_uri": "https://localhost:8080/"
        },
        "id": "Weepkhh1_ED6",
        "outputId": "0a33ed53-3802-4183-b52a-841aa2dff49d"
      },
      "outputs": [
        {
          "data": {
            "text/plain": [
              "matrix([[0., 0., 0., ..., 0., 0., 0.],\n",
              "        [0., 0., 1., ..., 0., 0., 0.],\n",
              "        [0., 1., 0., ..., 0., 0., 0.],\n",
              "        ...,\n",
              "        [0., 0., 0., ..., 0., 0., 0.],\n",
              "        [0., 0., 0., ..., 0., 0., 1.],\n",
              "        [0., 0., 0., ..., 0., 1., 0.]])"
            ]
          },
          "execution_count": 39,
          "metadata": {},
          "output_type": "execute_result"
        }
      ],
      "source": [
        "A"
      ]
    },
    {
      "cell_type": "code",
      "execution_count": 40,
      "metadata": {
        "colab": {
          "base_uri": "https://localhost:8080/"
        },
        "id": "rUZj-lM3_ED7",
        "outputId": "a9da3c3e-ada0-4fe7-c404-165d687bf1a6"
      },
      "outputs": [
        {
          "data": {
            "text/plain": [
              "(1, 2708)"
            ]
          },
          "execution_count": 40,
          "metadata": {},
          "output_type": "execute_result"
        }
      ],
      "source": [
        "A.sum(axis=0).shape"
      ]
    },
    {
      "cell_type": "code",
      "execution_count": 41,
      "metadata": {
        "id": "hpNQlq_h_ED7"
      },
      "outputs": [],
      "source": [
        "D = sp.diags(A.sum(axis=0)[0].tolist(), offsets=[0]).toarray()"
      ]
    },
    {
      "cell_type": "code",
      "execution_count": 42,
      "metadata": {
        "colab": {
          "base_uri": "https://localhost:8080/"
        },
        "id": "fgl32hrJ_ED7",
        "outputId": "88661f7d-d4e5-42e8-ce33-f8bc1f557c2b"
      },
      "outputs": [
        {
          "data": {
            "text/plain": [
              "array([[3., 0., 0., ..., 0., 0., 0.],\n",
              "       [0., 3., 0., ..., 0., 0., 0.],\n",
              "       [0., 0., 5., ..., 0., 0., 0.],\n",
              "       ...,\n",
              "       [0., 0., 0., ..., 1., 0., 0.],\n",
              "       [0., 0., 0., ..., 0., 4., 0.],\n",
              "       [0., 0., 0., ..., 0., 0., 4.]])"
            ]
          },
          "execution_count": 42,
          "metadata": {},
          "output_type": "execute_result"
        }
      ],
      "source": [
        "D"
      ]
    },
    {
      "cell_type": "markdown",
      "metadata": {
        "id": "AIEJyQi2TzyY"
      },
      "source": [
        "You might wonder why we suggest to use a scipy sparse matrix, while also PyTorch supports them. The reason is that in the next step, we will be multiplying two sparse matrices, an operation not supported in PyTorch. PyTorch only allows multiplying a sparse matrix with a dense one, something which we will be doing at a later stage.\n",
        "\n"
      ]
    },
    {
      "cell_type": "markdown",
      "metadata": {
        "id": "YlmzSb0up4LB"
      },
      "source": [
        "### The Graph Convolutional Network\n",
        "\n",
        "The goal of the graph convolution is to take the feature vectors of all nodes $X\\in\\mathbb{R}^{n\\times c}$, and propagate them along the existing edges, to obtain updated representations $Z\\in\\mathbb{R}^{n\\times d}$.\n",
        "\n",
        "\n",
        "The GCN is initially motivated as performing a convolution, similarly as it is done in CNNs for images, for graph-structured data. In Kipf and Welling (2017), a theoretical derivation leads to the following formula:\n",
        "\n",
        "$$\n",
        "Z = \\tilde{D}^{-\\frac{1}{2}}\\tilde{A}\\tilde{D}^{-\\frac{1}{2}}XW\n",
        "$$\n",
        "\n",
        "where\n",
        "\n",
        "- $W\\in\\mathbb{R}^{c\\times d}$ is a matrix of parameters to be learned via gradient descent\n",
        "- $\\tilde{A} = A + I_n$, where $I_n$ is an $n\\times n$ identity matrix\n",
        "- $\\tilde{D}$ is the degree matrix computed with $\\tilde{A}$ as the adjacency matrix\n",
        "\n",
        "If we define $\\hat{A} = \\tilde{D}^{-\\frac{1}{2}}\\tilde{A}\\tilde{D}^{-\\frac{1}{2}}$, the graph convolution can be written as $Z = \\hat{A}XW$."
      ]
    },
    {
      "cell_type": "markdown",
      "metadata": {
        "id": "LL4b-MTvysBp"
      },
      "source": [
        "#### Question 4 (0.25 pt)\n",
        "\n",
        "Given the formula for the GCN, explain why it operates by propagating feature vectors across the graph. To answer this, it might be useful to recall the definitions of the adjacency and degree matrices, and how they are involved in the formula."
      ]
    },
    {
      "cell_type": "markdown",
      "metadata": {
        "id": "Vgx2SkTTyiSN"
      },
      "source": [
        "*Your answer here*\n",
        "\n",
        "The adjacency matrix (A) captures the relationships between the nodes in the graph, and the degree matrix (D) represents the node frequencies/degrees. By normalizing A to D, and therefore ensuring that the graph convolution operation is effectively applied across nodes with different degrees, a GCN propagates info from a certain node to its neighbours. This allows the features of nodes to be updated based on the features of their respective neigbouring nodes, using the weight matrix W in order to make the model learn the best way of combining these features from the graph.\n"
      ]
    },
    {
      "cell_type": "markdown",
      "metadata": {
        "id": "QUGABEqxylsd"
      },
      "source": [
        "#### Question 5 (0.5 pt)\n",
        "\n",
        "Compute the **normalized adjacency matrix** $\\hat{A}$. The result should be a sparse matrix."
      ]
    },
    {
      "cell_type": "code",
      "execution_count": 43,
      "metadata": {},
      "outputs": [],
      "source": [
        "A = A + np.eye(A.shape[0])"
      ]
    },
    {
      "cell_type": "code",
      "execution_count": 44,
      "metadata": {},
      "outputs": [],
      "source": [
        "D = sp.diags(A.sum(axis=0)[0].tolist(), offsets=[0]).toarray()"
      ]
    },
    {
      "cell_type": "code",
      "execution_count": 45,
      "metadata": {
        "colab": {
          "base_uri": "https://localhost:8080/"
        },
        "id": "GPZbnSaSyDzO",
        "outputId": "09fbcea6-a69e-4f19-d651-bd35a2f87d31"
      },
      "outputs": [
        {
          "name": "stdout",
          "output_type": "stream",
          "text": [
            "  (0, 0)\t0.25\n",
            "  (0, 633)\t0.25\n",
            "  (0, 1862)\t0.22360679774997896\n",
            "  (0, 2582)\t0.25\n",
            "  (1, 1)\t0.25\n",
            "  (1, 2)\t0.20412414523193154\n",
            "  (1, 652)\t0.2886751345948129\n",
            "  (1, 654)\t0.35355339059327373\n",
            "  (2, 1)\t0.20412414523193154\n",
            "  (2, 2)\t0.1666666666666667\n",
            "  (2, 332)\t0.1666666666666667\n",
            "  (2, 1454)\t0.2886751345948129\n",
            "  (2, 1666)\t0.1543033499620919\n",
            "  (2, 1986)\t0.050251890762960605\n",
            "  (3, 3)\t0.4999999999999999\n",
            "  (3, 2544)\t0.4999999999999999\n",
            "  (4, 4)\t0.1666666666666667\n",
            "  (4, 1016)\t0.1666666666666667\n",
            "  (4, 1256)\t0.13608276348795434\n",
            "  (4, 1761)\t0.14433756729740646\n",
            "  (4, 2175)\t0.1666666666666667\n",
            "  (4, 2176)\t0.13608276348795434\n",
            "  (5, 5)\t0.25\n",
            "  (5, 1629)\t0.25\n",
            "  (5, 1659)\t0.2886751345948129\n",
            "  :\t:\n",
            "  (2699, 2699)\t0.4999999999999999\n",
            "  (2700, 1151)\t0.408248290463863\n",
            "  (2700, 2700)\t0.4999999999999999\n",
            "  (2701, 44)\t0.2886751345948129\n",
            "  (2701, 2624)\t0.3333333333333334\n",
            "  (2701, 2701)\t0.3333333333333334\n",
            "  (2702, 186)\t0.2182178902359924\n",
            "  (2702, 1536)\t0.25819888974716115\n",
            "  (2702, 2702)\t0.3333333333333334\n",
            "  (2703, 1298)\t0.4999999999999999\n",
            "  (2703, 2703)\t0.4999999999999999\n",
            "  (2704, 641)\t0.4999999999999999\n",
            "  (2704, 2704)\t0.4999999999999999\n",
            "  (2705, 287)\t0.4999999999999999\n",
            "  (2705, 2705)\t0.4999999999999999\n",
            "  (2706, 165)\t0.19999999999999998\n",
            "  (2706, 169)\t0.25819888974716115\n",
            "  (2706, 1473)\t0.19999999999999998\n",
            "  (2706, 2706)\t0.19999999999999998\n",
            "  (2706, 2707)\t0.19999999999999998\n",
            "  (2707, 165)\t0.19999999999999998\n",
            "  (2707, 598)\t0.07669649888473704\n",
            "  (2707, 1473)\t0.19999999999999998\n",
            "  (2707, 2706)\t0.19999999999999998\n",
            "  (2707, 2707)\t0.19999999999999998\n"
          ]
        }
      ],
      "source": [
        "\n",
        "D_inv_sqrt = np.linalg.inv(np.sqrt(D))\n",
        "A_norm = D_inv_sqrt @ A @ D_inv_sqrt\n",
        "\n",
        "A_norm_sparse = sp.coo_matrix(A_norm)\n",
        "A_norm_sparse\n",
        "print(A_norm_sparse)"
      ]
    },
    {
      "cell_type": "markdown",
      "metadata": {
        "id": "LLLdGdZoMEy-"
      },
      "source": [
        "#### Question 6 (0.5 pt)\n",
        "\n",
        "So far we have used scipy to build and compute sparse matrices. Since we want to train a GCN with PyTorch, we need to convert $\\hat{A}$ into a sparse PyTorch tensor. You can do this with the [`torch.sparse_coo_tensor()`](https://pytorch.org/docs/stable/generated/torch.sparse_coo_tensor.html) function, making sure to specify `torch.float` as the type."
      ]
    },
    {
      "cell_type": "code",
      "execution_count": 46,
      "metadata": {
        "colab": {
          "base_uri": "https://localhost:8080/"
        },
        "id": "dgDsVHzEM32F",
        "outputId": "c7baa589-cde1-420d-82c3-3a4ad0e5a8b0"
      },
      "outputs": [
        {
          "data": {
            "text/plain": [
              "tensor(indices=tensor([[   0,    0,    0,  ..., 2707, 2707, 2707],\n",
              "                       [   0,  633, 1862,  ..., 1473, 2706, 2707]]),\n",
              "       values=tensor([0.2500, 0.2500, 0.2236,  ..., 0.2000, 0.2000, 0.2000]),\n",
              "       size=(2708, 2708), nnz=13264, layout=torch.sparse_coo)"
            ]
          },
          "execution_count": 46,
          "metadata": {},
          "output_type": "execute_result"
        }
      ],
      "source": [
        "indx_mat = np.vstack((A_norm_sparse.row, A_norm_sparse.col))\n",
        "\n",
        "A_norm_sparse_tensor = torch.sparse_coo_tensor(indx_mat , A_norm_sparse.data, dtype=torch.float)\n",
        "A_norm_sparse_tensor"
      ]
    },
    {
      "cell_type": "markdown",
      "metadata": {
        "id": "eAlRVT5aODkX"
      },
      "source": [
        "#### Question 7 (0.5 pt)\n",
        "\n",
        "We now have all the ingredients to build a GCN layer. Implement a class (inheriting from `torch.nn.Module`) with a learnable matrix of weights $W\\in\\mathbb{R}^{c\\times d}$. Make sure to\n",
        "\n",
        "- Call this class `GCNLayer`\n",
        "- The `__init__()` constructor should take as argument the number of input and output features.\n",
        "- Use `torch.nn.init.kaiming_uniform_` to initialize $W$.\n",
        "- Define the `forward` method, which takes as input $X$ and $\\hat{A}$ and returns $Z$. Note that multiplications involving the sparse matrix $\\hat{A}$ have to be done with `torch.spmm`.\n",
        "\n",
        "Once you have implemented the class, instantiate a layer with the correct number of input features for the Cora dataset, and a number of output features of your choice. Do a forward pass and report the shape of the output tensor."
      ]
    },
    {
      "cell_type": "code",
      "execution_count": 47,
      "metadata": {
        "colab": {
          "base_uri": "https://localhost:8080/"
        },
        "id": "JFCohhhwPpTT",
        "outputId": "14b9bae9-1c0c-4144-9b2d-63bc911a157d"
      },
      "outputs": [
        {
          "data": {
            "text/plain": [
              "torch.Size([2708, 7])"
            ]
          },
          "execution_count": 47,
          "metadata": {},
          "output_type": "execute_result"
        }
      ],
      "source": [
        "class GCNLayer(torch.nn.Module):\n",
        "\n",
        "    def __init__(self, input_dim, output_dim):\n",
        "        super(GCNLayer, self).__init__()\n",
        "        w_tensor = torch.empty(input_dim, output_dim) # changed this to empty\n",
        "        self.w_mat = torch.nn.Parameter(torch.nn.init.kaiming_uniform_(w_tensor)) # changed to uniform\n",
        "\n",
        "    def forward(self, X, A_hat):\n",
        "        W = self.w_mat\n",
        "        Z = torch.spmm(A_hat, (X @ W))\n",
        "        return Z\n",
        "\n",
        "\n",
        "x = data.x\n",
        "a_hat = A_norm_sparse_tensor\n",
        "inp_dim = data.num_features\n",
        "out_dim = 7\n",
        "\n",
        "layer = GCNLayer(inp_dim, out_dim)\n",
        "out_tensor = layer.forward(x, a_hat)\n",
        "out_tensor.shape # has a shape of input features by output features\n",
        "\n"
      ]
    },
    {
      "cell_type": "markdown",
      "metadata": {
        "id": "1ptAiizZUKaM"
      },
      "source": [
        "#### Question 8 (0.5 pt)\n",
        "\n",
        "As we have seen so far, the GCN layer implements a special type of linear transformation of the inputs. However, it is often beneficial in deep learning to stack multiple, non-linear transformations of the input features. Implement a second module class for a model with two GCN layers (use the module you implemented in the previous question).\n",
        "\n",
        "- Call this class `GCN`\n",
        "- The constructor must now take as input the number of input features, the output dimension of the first layer (this is the hidden layer), and the output dimension of the output layer.\n",
        "- In the forward pass, add a ReLU activation function after the first layer."
      ]
    },
    {
      "cell_type": "code",
      "execution_count": 48,
      "metadata": {
        "colab": {
          "base_uri": "https://localhost:8080/"
        },
        "id": "2zhyu3S9Vj3b",
        "outputId": "a3872c83-3aab-459f-d2bc-62ce5be7ea51"
      },
      "outputs": [
        {
          "data": {
            "text/plain": [
              "torch.Size([2708, 7])"
            ]
          },
          "execution_count": 48,
          "metadata": {},
          "output_type": "execute_result"
        }
      ],
      "source": [
        "\n",
        "class GCN(torch.nn.Module):\n",
        "    def __init__(self, num_input_features, out_dim_layer_hidden, out_dim_layer_output) -> None:\n",
        "        super(GCN, self).__init__()\n",
        "        self.layer_hidden = GCNLayer(num_input_features, out_dim_layer_hidden)\n",
        "        self.layer_output = GCNLayer(out_dim_layer_hidden, out_dim_layer_output)\n",
        "\n",
        "    def forward(self, X, A_hat):\n",
        "        hidden_out = self.layer_hidden.forward(X, A_hat)\n",
        "        relu_out = torch.relu(hidden_out)\n",
        "        Z = self.layer_output.forward(relu_out, A_hat)\n",
        "        return Z\n",
        "\n",
        "\n",
        "gcn = GCN(data.num_features, 1000, 7)\n",
        "out = gcn.forward(x, a_hat)\n",
        "out.shape # should be (num_input_features, out_dim_layer_output)"
      ]
    },
    {
      "cell_type": "markdown",
      "metadata": {
        "id": "6NVB-3I5Wfkf"
      },
      "source": [
        "### GCNs for semi-supervised node classification\n",
        "\n",
        "Now that we have a GCN with two layers, we can test its performance in a node classification task. We will pass the input node features $X$ through the GCN layers, and the output will be of size $n\\times k$ where $k$ is the number of classes (which you found in question 1). The label denotes the topic an article in the citation network belongs to (e.g. physics, computer science, etc.)."
      ]
    },
    {
      "cell_type": "markdown",
      "metadata": {
        "id": "trc4dSa7cuQj"
      },
      "source": [
        "#### Question 9 (1.5 pt)\n",
        "\n",
        "Note that the `data` object contains all labels (for all splits) in `data.y`, and binary masks for the train, validation, and test splits in `data.train_mask`, `data.val_mask`, and `data.test_mask`, respectively. These masks are the same size as `data.y`, and indicate which labels belong to which split.\n",
        "\n",
        "- Create a GCN with two layers (using the class from the previous question), with 32 as the hidden dimension, and the number of output features equal to the number of classes in the Cora dataset.\n",
        "\n",
        "- Use the Adam optimizer with a learning rate of 0.01.\n",
        "\n",
        "- Implement a training loop for the GCN. At each step, pass $X$ and $\\hat{A}$ to the GCN to obtain the logits. Compute the mean cross-entropy loss **only for the training instances**, using the binary masks.\n",
        "\n",
        "- After each training step, evaluate the accuracy for the validation instances.\n",
        "\n",
        "- Train for 100 epochs. Once training is finished, plot the training loss and validation accuracy (in a graph in function of the epoch number), and report the accuracy in the test set.\n",
        "\n",
        "You should obtain an accuracy over 75% on both the validation and test sets. You can also compare your results with the original paper, which also contains results for the Cora dataset. Give a brief discussion on the results of your experiments.\n",
        "\n",
        "Note that in contrast with other tasks, like image classification on some datasets, we don't use mini-batches here. The whole matrix of features and the adjacency is passed to the GCN in one step."
      ]
    },
    {
      "cell_type": "code",
      "execution_count": 55,
      "metadata": {
        "colab": {
          "base_uri": "https://localhost:8080/",
          "height": 554
        },
        "id": "Z9KzN79gYh1L",
        "outputId": "c2fd5c50-7d97-4711-bdde-cf4ee30266dc"
      },
      "outputs": [
        {
          "name": "stdout",
          "output_type": "stream",
          "text": [
            "Epoch: 10/100, Loss: 0.3035, Validation Accuracy: 0.6600\n",
            "Epoch: 20/100, Loss: 0.0283, Validation Accuracy: 0.7540\n",
            "Epoch: 30/100, Loss: 0.0052, Validation Accuracy: 0.7640\n",
            "Epoch: 40/100, Loss: 0.0020, Validation Accuracy: 0.7680\n",
            "Epoch: 50/100, Loss: 0.0012, Validation Accuracy: 0.7580\n",
            "Epoch: 60/100, Loss: 0.0009, Validation Accuracy: 0.7540\n",
            "Epoch: 70/100, Loss: 0.0008, Validation Accuracy: 0.7580\n",
            "Epoch: 80/100, Loss: 0.0007, Validation Accuracy: 0.7580\n",
            "Epoch: 90/100, Loss: 0.0006, Validation Accuracy: 0.7580\n",
            "Epoch: 100/100, Loss: 0.0005, Validation Accuracy: 0.7620\n"
          ]
        },
        {
          "data": {
            "image/png": "[encoded data removed]",
            "text/plain": [
              "<Figure size 1200x400 with 2 Axes>"
            ]
          },
          "metadata": {},
          "output_type": "display_data"
        },
        {
          "name": "stdout",
          "output_type": "stream",
          "text": [
            "Validation Accuracy: 0.7620\n",
            "Test Accuracy: 0.7860\n"
          ]
        }
      ],
      "source": [
        "import torch.optim as optim\n",
        "import matplotlib.pyplot as plt\n",
        "\n",
        "gcn = GCN(data.num_features, 32, data.y.max().item() + 1)  # number of classes as output features\n",
        "\n",
        "optimizer = optim.Adam(gcn.parameters(), lr=0.01)\n",
        "criterion = torch.nn.CrossEntropyLoss()\n",
        "\n",
        "# Use GPU if available\n",
        "device = torch.device(\"cuda:0\" if torch.cuda.is_available() else \"cpu\")\n",
        "gcn = gcn.to(device)\n",
        "data = data.to(device)\n",
        "\n",
        "# training loop\n",
        "num_epochs = 100\n",
        "train_losses = []\n",
        "val_correct_nodes = []\n",
        "\n",
        "val_accuracies = []\n",
        "\n",
        "for epoch in range(num_epochs):\n",
        "    # training\n",
        "    gcn.train()\n",
        "    optimizer.zero_grad()\n",
        "    output = gcn(x.to(device), a_hat.to(device))\n",
        "    train_loss = criterion(output[data.train_mask], data.y[data.train_mask])\n",
        "    train_loss.backward()\n",
        "    optimizer.step()\n",
        "    train_losses.append(train_loss.item())\n",
        "\n",
        "    # val\n",
        "    gcn.eval()\n",
        "    val_output = gcn(x.to(device), a_hat.to(device))\n",
        "    val_loss = criterion(val_output[data.val_mask], data.y[data.val_mask])\n",
        "    val_pred = val_output.argmax(dim=1)\n",
        "    correct_nodes = val_pred[data.val_mask] == data.y[data.val_mask]\n",
        "    val_correct_nodes.append(correct_nodes)\n",
        "    \n",
        "    val_accuracy = sum(val_correct_nodes[-1]).item() / len(val_correct_nodes[-1])\n",
        "    val_accuracies.append(val_accuracy)\n",
        "\n",
        "    # progress\n",
        "    if (epoch + 1) % 10 == 0:\n",
        "        print(f'Epoch: {epoch + 1}/{num_epochs}, Loss: {train_loss.item():.4f}, Validation Accuracy: {val_accuracy:.4f}')\n",
        "\n",
        "# plot training loss and validation accuracy\n",
        "plt.figure(figsize=(12, 4))\n",
        "plt.subplot(1, 2, 1)\n",
        "plt.plot(train_losses, label='Training Loss')\n",
        "plt.xlabel('Epoch')\n",
        "plt.ylabel('Loss')\n",
        "plt.title('Training Loss')\n",
        "\n",
        "plt.subplot(1, 2, 2)\n",
        "plt.plot(val_accuracies, label='Validation Acc.', color='green')\n",
        "plt.xlabel('Epoch')\n",
        "plt.ylabel('Accuracy')\n",
        "plt.title('Validation Acc.')\n",
        "\n",
        "plt.tight_layout()\n",
        "plt.show()\n",
        "\n",
        "# calculate and print validation accuracy\n",
        "# val_correct_nodes = torch.cat(val_correct_nodes, dim=0)\n",
        "val_correct_nodes = val_correct_nodes[-1]#torch.cat(val_correct_nodes, dim=0)\n",
        "val_accuracy = val_correct_nodes.sum().item() / val_correct_nodes.size(0)\n",
        "print(f'Validation Accuracy: {val_accuracy:.4f}')\n",
        "\n",
        "# test\n",
        "test_output = gcn(x.to(device), a_hat.to(device))\n",
        "test_pred = test_output.argmax(dim=1)\n",
        "test_correct_nodes = test_pred[data.test_mask] == data.y[data.test_mask]\n",
        "test_accuracy = test_correct_nodes.sum().item() / test_correct_nodes.size(0)\n",
        "\n",
        "print(f'Test Accuracy: {test_accuracy:.4f}')\n",
        "\n"
      ]
    },
    {
      "cell_type": "markdown",
      "metadata": {
        "id": "vb5YjHVClCqo"
      },
      "source": [
        "#### Question 10 (0.5 pt)\n",
        "\n",
        "The paper introduces GCNs as a way to solve a *semi-supervised* classification problem.\n",
        "\n",
        "- What makes this problem semi-supervised?\n",
        "- What is the proportion of labeled data used for training with respect to labeled data in the validation and test sets? What is difference in this context with other benchmark tasks in machine learning, like image classification with MNIST?\n",
        "- Why do you think the GCN performs well in this semi-supervised scenario?"
      ]
    },
    {
      "cell_type": "code",
      "execution_count": 25,
      "metadata": {
        "colab": {
          "base_uri": "https://localhost:8080/"
        },
        "id": "tgWxCIs8_OUi",
        "outputId": "59b8327b-7e6b-4787-d5c0-604a0b004361"
      },
      "outputs": [
        {
          "name": "stdout",
          "output_type": "stream",
          "text": [
            "Training node label rate: 0.05\n"
          ]
        }
      ],
      "source": [
        "print(f'Training node label rate: {int(data.train_mask.sum()) / data.num_nodes:.2f}')"
      ]
    },
    {
      "cell_type": "code",
      "execution_count": 483,
      "metadata": {
        "id": "7qw58r1MmCUJ"
      },
      "outputs": [],
      "source": [
        "# Your answer here\n"
      ]
    },
    {
      "cell_type": "markdown",
      "metadata": {
        "id": "JERZ4hNM_QG4"
      },
      "source": [
        "1. Within  the Cora dataset, each node has a corressponding class label, but only a small subset of nodes is labeled (Training node label rate: 0.05), while the majority of nodes remain unlabeled. This makes the problem semi-supervised because the model needs to generalise it predictions to the unlabeled nodes based on the information it learns from the labeled nodes.\n",
        "\n",
        "2. In image classification tasks like MNIST, each image is usually labeled, and the dataset divided into training, validation, and test sets, with a substantial portion of labeled data in each set. Semi-supervised learning, particularly in graph-based tasks, often involves a much smaller fraction of labeled data, making it challenging for the model to generalise to the entire dataset.\n",
        "\n",
        "3. GCNs leverage the graph structure to propagate information across connected nodes. This allows the model to capture relationships and dependencies between nodes, even when there are few labeled instances.\n"
      ]
    },
    {
      "cell_type": "markdown",
      "metadata": {
        "id": "4ihrjZddvz5d"
      },
      "source": [
        "### Loading a dataset of proteins\n",
        "\n",
        "In the previous sections you learned how to pass the adjacency matrix of a graph with a couple of thousand of nodes, to classify each node with a particular label. A different and useful application of GCNs is graph classification.\n",
        "\n",
        "In contrast with the previous part, where there was a single, big graph, in graph classification we have multiple graphs, and each graph can be assigned a label. In this part of the assignment you will implement a classifier for proteins.\n",
        "\n",
        "[Proteins](https://en.wikipedia.org/wiki/Protein_(nutrient)) are parts of the buildings block of life. They consist of chains of amino acids, and can take many shapes. In the PROTEINS dataset, proteins are represented as graphs, where the nodes are amino acids, and an edge between them indicates that they are 6 [Angstroms](https://en.wikipedia.org/wiki/Angstrom) apart. All graphs have a binary label, where 1 means that the protein is not an enzyme.\n",
        "\n",
        "We will start by loading and examining this dataset."
      ]
    },
    {
      "cell_type": "code",
      "execution_count": 9,
      "metadata": {
        "id": "xmqweMcvnUH6"
      },
      "outputs": [],
      "source": [
        "from torch_geometric.datasets import TUDataset\n",
        "dataset = TUDataset(root='data/TU', name='PROTEINS', use_node_attr=True)"
      ]
    },
    {
      "cell_type": "markdown",
      "metadata": {
        "id": "_oF1gyKPXiz-"
      },
      "source": [
        "#### Question 11 (0.25 pt)\n",
        "\n",
        "Unlike in the previous part, where we selected the first element returned by the loading function, note that here we get all the elements returned by `TUDataset()`. `dataset` is an interable object, that has some similar behaviors as a Python list: you can call `len()` on it, and you can takes slices from it.\n",
        "\n",
        "Each element in `dataset` is a `Data` object containing a graph that represents a protein. This is the same type of object that we used in the previous part to store the Cora citation network.\n",
        "\n",
        "Knowing this, answer the following:\n",
        "\n",
        "- How many proteins (graphs) are there in `dataset`?\n",
        "- Take any protein from `dataset`. How many nodes and edges does it contain? What is its label? How many features does each node have?"
      ]
    },
    {
      "cell_type": "code",
      "execution_count": 10,
      "metadata": {
        "colab": {
          "base_uri": "https://localhost:8080/"
        },
        "id": "ZNPsnXXbbHHe",
        "outputId": "863a1556-42fe-4a94-dca2-3e054d532400"
      },
      "outputs": [
        {
          "name": "stdout",
          "output_type": "stream",
          "text": [
            "Number of proteins (graphs) in dataset: 1113\n",
            "Shape of the NumPy dataset: (1113, 4)\n",
            "Protein 3 --> [num_nodes, num_edges, num_node_features, label]: [24 92  4  0]\n",
            "Number of unique classes: 2, tensor([0, 1])\n",
            "Number of features: 4\n"
          ]
        }
      ],
      "source": [
        "# Your answer here\n",
        "import numpy as np\n",
        "\n",
        "# number of proteins within the dataset\n",
        "num_proteins = len(dataset)\n",
        "print(f\"Number of proteins (graphs) in dataset: {num_proteins}\")\n",
        "\n",
        "# did this just to see dataset\n",
        "numpy_array_list = []\n",
        "\n",
        "for i in range(len(dataset)):\n",
        "    protein = dataset[i]\n",
        "\n",
        "    # extract relevant information from dataset\n",
        "    num_nodes = protein.num_nodes\n",
        "    num_edges = protein.num_edges\n",
        "    num_node_features = protein.num_features\n",
        "    label = protein.y.item()\n",
        "\n",
        "    protein_array = np.array([num_nodes, num_edges, num_node_features, label])\n",
        "\n",
        "\n",
        "    numpy_array_list.append(protein_array)\n",
        "\n",
        "\n",
        "numpy_dataset = np.array(numpy_array_list)\n",
        "\n",
        "print(f\"Shape of the NumPy dataset: {numpy_dataset.shape}\")\n",
        "\n",
        "# number of nodes, edges, features, and label of protein 3 within the dataset:\n",
        "print(f\"Protein 3 --> [num_nodes, num_edges, num_node_features, label]: {numpy_dataset[3,:]}\")\n",
        "print(f\"Number of unique classes: {len(dataset.y.unique())}, {dataset.y.unique()}\")\n",
        "print(f\"Number of features: {dataset.num_node_features}\")\n"
      ]
    },
    {
      "cell_type": "markdown",
      "metadata": {
        "id": "kHSklBZXpKpR"
      },
      "source": [
        "#### Question 12 (0.5 pt)\n",
        "\n",
        "To properly train and evaluate our model, we need training, validation, and test splits.\n",
        "\n",
        "For reproducibility purposes, we generate a random tensor of indices for you. Use it to extract the three splits from `dataset`.\n",
        "\n",
        "For training, take 80% of the indices (starting from the first element in `indices`), then the following 10% for validation, and the remaining 10% for testing. You can use the indices to index `dataset`.\n",
        "\n",
        "Call the resulting splits `train_dataset`, `valid_dataset`, and `test_dataset`."
      ]
    },
    {
      "cell_type": "code",
      "execution_count": 11,
      "metadata": {
        "id": "ttY4d1GInn08"
      },
      "outputs": [],
      "source": [
        "# Don't erase the following three lines\n",
        "import torch\n",
        "torch.random.manual_seed(0)\n",
        "indices = torch.randperm(len(dataset))\n",
        "\n",
        "# Your answer here\n",
        "\n",
        "# calculate sizes of splits\n",
        "total_size = len(indices)\n",
        "train_size = int(0.8 * total_size)\n",
        "valid_size = test_size = (total_size - train_size) // 2\n",
        "\n",
        "# split the indices\n",
        "train_indices = indices[:train_size]\n",
        "valid_indices = indices[train_size:(train_size + valid_size)]\n",
        "test_indices = indices[(train_size + valid_size):]\n",
        "\n",
        "# create three datasets with indices\n",
        "train_dataset = dataset[train_indices]\n",
        "valid_dataset = dataset[valid_indices]\n",
        "test_dataset = dataset[test_indices]"
      ]
    },
    {
      "cell_type": "markdown",
      "metadata": {
        "id": "rDJbB4CQqsfp"
      },
      "source": [
        "### Working with a batch of graphs\n",
        "\n",
        "When working with the Cora dataset, you used the information in `data.edge_index` to build the sparse normalized adjacency matrix $\\hat{A}$ that is required by the GCN. We could do something similar here: for each graph, we build $\\hat{A}$, and pass it to the GCN. However, if the number of graphs is big, this can really slow down training.\n",
        "\n",
        "To avoid this, we will resort to a very useful trick that also allows us to reuse the same GCN you implemented previously. The trick makes it possible to do a forward pass through the GCN for multiple, disconnected graphs at the same time (instead of only one), much like when you train with mini-batches for other kinds of data.\n",
        "\n",
        "Let's first revisit the propagation rule of the GCN, $Z = \\hat{A}XW$, with an illustration (we have omitted the cells of $X$ and $W$ for clarity):\n",
        "\n",
        "<img src=\"https://raw.githubusercontent.com/dfdazac/dlvu-a5/main/img/02-gcn-forward.png\">\n",
        "\n",
        "If we have multiple graphs, we can still use the same propagation rule, if we\n",
        "\n",
        "- Set $\\hat{A}$ to be a block diagonal matrix, where the blocks are the different adjacency matrices of the graphs\n",
        "- Concatenate the feature matrices along the first dimension\n",
        "\n",
        "This is illustrated in the following figure, for a batch of 3 graphs. Note that the elements outside of the blocks are zero.\n",
        "\n",
        "<img src=\"https://raw.githubusercontent.com/dfdazac/dlvu-a5/main/img/02-gcn-batch-forward.png\">\n",
        "\n",
        "The resulting adjacency matrix $\\hat{A}_B$ can also be built as a sparse matrix, and once we have it together with the concatenated matrix of features, the computation of the graph convolution is exactly the same as before. Note how this trick also allows us to process graphs with different sizes and structures.\n"
      ]
    },
    {
      "cell_type": "markdown",
      "metadata": {
        "id": "0DLPJ62b2mQ6"
      },
      "source": [
        "#### Question 13 (0.5 pt)\n",
        "\n",
        "\n",
        "Just as the citation network, the graphs in each of the datasets you created in Question 12 also have an `edge_index` attribute, which can be used to compute the normalized adjacency matrix $\\hat{A}$, for each graph.\n",
        "\n",
        "Reusing your code for Questions 3 and 5, define a function `get_a_norm()` that takes as input an element of a dataset (e.g. `train_dataset[0]`), and returns a `scipy.sparse` matrix containing $\\hat{A}$.\n",
        "\n",
        "Note that an element of a dataset has properties like `num_edges`, `num_nodes`, etc. which you can use here."
      ]
    },
    {
      "cell_type": "code",
      "execution_count": 12,
      "metadata": {},
      "outputs": [],
      "source": [
        "def get_a_norm(data_point):\n",
        "    triplet = data_point.edge_index.T\n",
        "    A = sp.coo_matrix((np.ones(len(triplet)), (triplet[:,0].T, triplet[:,1].T)), shape=(data_point.num_nodes, data_point.num_nodes)).todense()\n",
        "    A = A + np.eye(A.shape[0])\n",
        "    D = sp.diags(A.sum(axis=0)[0].tolist(), offsets=[0]).toarray()\n",
        "    D_inv_sqrt = np.linalg.inv(np.sqrt(D))\n",
        "    A_norm = D_inv_sqrt @ A @ D_inv_sqrt\n",
        "    A_norm_sparse = sp.coo_matrix(A_norm)\n",
        "    return A_norm_sparse"
      ]
    },
    {
      "cell_type": "code",
      "execution_count": 64,
      "metadata": {},
      "outputs": [
        {
          "data": {
            "text/plain": [
              "<42x42 sparse matrix of type '<class 'numpy.float64'>'\n",
              "\twith 204 stored elements in COOrdinate format>"
            ]
          },
          "execution_count": 64,
          "metadata": {},
          "output_type": "execute_result"
        }
      ],
      "source": [
        "get_a_norm(dataset[0])"
      ]
    },
    {
      "cell_type": "markdown",
      "metadata": {
        "id": "cBrmYBY3AfhW"
      },
      "source": [
        "#### Question 14 (1 pt)\n",
        "\n",
        "To prepare the batch of graphs, we need to collect multiple adjacency matrices, feature matrices, and labels.\n",
        "\n",
        "When using the trick described in the last figure, we see that we have to keep track of when a graph starts and when it ends, so that we can later differentiate the outputs due to $X^{(0)}$, $X^{(1)}$, etc. To achieve this, we will additionally collect a 1D array of batch indices, one for each $X^{(i)}$.\n",
        "\n",
        "The 1D array has as many elements as rows in $X^{(i)}$, and it is filled with the value $i$ (the position of $X^{(i)}$ in the batch):\n",
        "\n",
        "<img src=\"https://raw.githubusercontent.com/dfdazac/dlvu-a5/main/img/03-batch-indices.png\">\n",
        "\n",
        "We will later concatenate all the 1D arrays along the first dimension, just as we will do with all the $X^{(i)}$.\n",
        "\n",
        "Define a function `prepare_graphs_batch()` that takes as input a dataset (e.g. `train_dataset`), and does the following\n",
        "\n",
        "- Create four empty lists:\n",
        "  - `adj_matrices`\n",
        "  - `feature_matrices`\n",
        "  - `batch_indices`\n",
        "  - `labels`\n",
        "- Iterate over the input dataset, getting one graph at a time. At each step, use your function from Question 13 to append the adjacency matrix to `adj_matrices`, append the matrix of input features to `feature_matrices`, create the array of batch indices (as explained above) and append it to `batch_indices`, and append the label of the graph to `labels`. **Make sure to convert the label to float**.\n",
        "- Once the loop is over, use `scipy.sparse.block_diag()` to build the block diagonal matrix $\\hat{A}_B$. Convert it to the COO format, and then use your answer to Question 6 to turn it into a sparse PyTorch tensor.\n",
        "- Use `torch.cat()` to concatenate the tensors in `feature_matrices` along the first dimension. Do this also for `batch_indices` and `labels`.\n",
        "- Return the 4 tensors computed in the previous two items."
      ]
    },
    {
      "cell_type": "code",
      "execution_count": 102,
      "metadata": {},
      "outputs": [
        {
          "data": {
            "text/plain": [
              "tensor([663, 450])"
            ]
          },
          "execution_count": 102,
          "metadata": {},
          "output_type": "execute_result"
        }
      ],
      "source": [
        "dataset.y.bincount()"
      ]
    },
    {
      "cell_type": "code",
      "execution_count": 17,
      "metadata": {
        "id": "SsQ0-JjSqFgD"
      },
      "outputs": [],
      "source": [
        "# Your answer here\n",
        "def prepare_graphs_batch(dataset):\n",
        "    adj_matrices = []\n",
        "    feature_matrices = []\n",
        "    batch_indices = []\n",
        "    labels = []\n",
        "    for i in range(len(dataset)):\n",
        "        data_point = dataset[i]\n",
        "        adj_matrices.append(get_a_norm(data_point))\n",
        "        feature_matrices.append(data_point.x)\n",
        "        batch_indices.append(i*torch.ones(data_point.num_nodes))\n",
        "        labels.append(data_point.y)\n",
        "    \n",
        "    block_diag = sp.block_diag(adj_matrices)\n",
        "    indx_mat = np.vstack((block_diag.row, block_diag.col))\n",
        "    block_diag_tensor = torch.sparse_coo_tensor(indx_mat , block_diag.data, dtype=torch.float)\n",
        "    feature_matrices_tensor = torch.cat(feature_matrices, dim=0)\n",
        "    batch_indices_tensor = torch.cat(batch_indices , dim=0)\n",
        "    labels_tensor = torch.cat(labels, dim=0)\n",
        "    return block_diag_tensor, feature_matrices_tensor, batch_indices_tensor, labels_tensor"
      ]
    },
    {
      "cell_type": "markdown",
      "metadata": {
        "id": "i73P_EU0MSPX"
      },
      "source": [
        "Once your answer for the previous question is ready, you can run the next cell to prepare all the required information, for the train, validation, and test splits."
      ]
    },
    {
      "cell_type": "code",
      "execution_count": 18,
      "metadata": {},
      "outputs": [
        {
          "name": "stderr",
          "output_type": "stream",
          "text": [
            "/tmp/ipykernel_20763/699633688.py:3: UserWarning: The use of `x.T` on tensors of dimension other than 2 to reverse their shape is deprecated and it will throw an error in a future release. Consider `x.mT` to transpose batches of matrices or `x.permute(*torch.arange(x.ndim - 1, -1, -1))` to reverse the dimensions of a tensor. (Triggered internally at ../aten/src/ATen/native/TensorShape.cpp:3614.)\n",
            "  A = sp.coo_matrix((np.ones(len(triplet)), (triplet[:,0].T, triplet[:,1].T)), shape=(data_point.num_nodes, data_point.num_nodes)).todense()\n"
          ]
        }
      ],
      "source": [
        "train_a_norm, train_features, train_batch_idx, train_labels = prepare_graphs_batch(train_dataset)\n",
        "valid_a_norm, valid_features, valid_batch_idx, valid_labels = prepare_graphs_batch(valid_dataset)\n",
        "test_a_norm, test_features, test_batch_idx, test_labels = prepare_graphs_batch(test_dataset)"
      ]
    },
    {
      "cell_type": "markdown",
      "metadata": {
        "id": "R6q-JU87NClh"
      },
      "source": [
        "### GCNs for graph classification\n",
        "\n",
        "We now have all the ingredients to pass a batch of graphs to a GCN. However, for each graph in the batch, the output $Z^{(i)}$ contains one row for each node in the graph. If the goal is to do classification at the graph level, we have to *pool* these vectors to then compute the required logits for classification.\n",
        "\n",
        "This operation is similar as how pooling works in a CNN. We could consider taking the mean of the vectors, the sum, or use max-pooling. The difference with respect to CNNs is that in our case, we have a batch of graphs, each potentially with a different number of nodes.\n",
        "\n",
        "To implement this specific pooling, we can use the scatter operation in the `torch_scatter` library, which comes when installing PyG. We will use it, together with the tensor of batch indices from the previous two questions, to pool the outputs of the GCN for each graph, into a single vector:\n",
        "\n",
        "<img src=\"https://raw.githubusercontent.com/dfdazac/dlvu-a5/main/img/04-scatter.png\">\n",
        "\n",
        "You can check more details in the [documentation](https://pytorch-scatter.readthedocs.io/en/latest/functions/scatter.html)."
      ]
    },
    {
      "cell_type": "markdown",
      "metadata": {
        "id": "QY87DX1uRhnY"
      },
      "source": [
        "#### Question 15 (1.0 pt)\n",
        "\n",
        "Implement a `GraphClassifier` module using PyTorch.\n",
        "\n",
        "- The constructor should take as arguments the number of input features, the hidden dimension, and the number of classes.\n",
        "- The model should contain a instance of the `GCN` module (as you implemented it in Question 8). Use the same value for the hidden dimension and the number of output features (recall that your `GCN` module from Question 8 has two GCN layers).\n",
        "- The model should also contain a `torch.nn.Linear` layer, with the hidden dimension as the input features, and the number of classes as the output.\n",
        "- The forward method receives the concatenated matrix of features, the sparse block diagonal adjacency matrix, and the batch indices (the latter is used when calling `scatter`).\n",
        "- Use the following architecture in the forward pass:\n",
        "  - GCN $\\to$ ReLU $\\to$ scatter (max) $\\to$ Linear.\n",
        "\n",
        "The output of the forward should be a 1D tensor (you might need to call `squeeze` to get rid of extra dimensions) containing the logits for all graphs in the batch, for the binary classification task."
      ]
    },
    {
      "cell_type": "code",
      "execution_count": 72,
      "metadata": {},
      "outputs": [
        {
          "name": "stdout",
          "output_type": "stream",
          "text": [
            "Looking in links: https://pytorch-geometric.com/whl/torch-{TORCH}+{CUDA}.html\n",
            "Collecting torch-scatter\n",
            "  Using cached torch_scatter-2.1.2-cp39-cp39-linux_x86_64.whl\n",
            "Installing collected packages: torch-scatter\n",
            "Successfully installed torch-scatter-2.1.2\n"
          ]
        }
      ],
      "source": [
        "# cursed thing is hard to install with conda mess\n",
        "!pip install torch-scatter     -f https://pytorch-geometric.com/whl/torch-{TORCH}+{CUDA}.html"
      ]
    },
    {
      "cell_type": "code",
      "execution_count": 73,
      "metadata": {},
      "outputs": [],
      "source": [
        "import torch_scatter"
      ]
    },
    {
      "cell_type": "code",
      "execution_count": 93,
      "metadata": {
        "id": "750WraywwYDH"
      },
      "outputs": [],
      "source": [
        "# Your answer here\n",
        "class GraphClassifier(torch.nn.Module):\n",
        "    def __init__(self, num_input_features, out_dim_layer_hidden, out_dim_layer_output) -> None:\n",
        "        super(GraphClassifier, self).__init__()\n",
        "        self.gcn = GCN(num_input_features, out_dim_layer_hidden, out_dim_layer_hidden)\n",
        "        self.linear = torch.nn.Linear(out_dim_layer_hidden, out_dim_layer_output)\n",
        "        \n",
        "    def forward(self, X, A_hat, batch_indices):\n",
        "        Z = self.gcn(X, A_hat)\n",
        "        Z = torch.relu(Z)\n",
        "        Z = torch_scatter.scatter(Z, batch_indices, dim=0,  reduce=\"max\")\n",
        "        Z = self.linear(Z)\n",
        "        return Z\n"
      ]
    },
    {
      "cell_type": "markdown",
      "metadata": {
        "id": "C1PHy-_vTjgh"
      },
      "source": [
        "#### Question 16 (1.5 pt)\n",
        "\n",
        "Implement a training loop for the graph classifier. Use the data from Question 14 to train and evaluate the model.\n",
        "\n",
        "We encourage you to use a GPU in this section for faster training. Note that if you change the runtime at this point, you must re-execute several of the cells above, including the ones that install PyG.\n",
        "\n",
        "- Instantiate a classifier with 32 as the hidden dimension\n",
        "- Use Adam with a learning rate of 1e-3.\n",
        "- Use `torch.nn.BCEWithLogitsLoss` as the loss function.\n",
        "- Train for 5,000 epochs. Once training is done, plot the loss curve and the accuracy in the validation set. Then report the accuracy in the test set.\n",
        "\n",
        "**Note:** the logits from the output of the classifier come from a linear layer. To compute actual predictions for the calculation of the accuracy, pass the logits through `torch.sigmoid()`, and set the predicted values to 1 whenever they are greater than 0.5, and to 0 otherwise.\n",
        "\n",
        "You should get an accuracy equal to or higher than 70% in the validation and test sets. Can you beat the [state-of-the-art](https://paperswithcode.com/sota/graph-classification-on-proteins)? Feel free to modify your architecture and experiment with it.\n",
        "\n",
        "Discuss what you observe during training and your results."
      ]
    },
    {
      "cell_type": "code",
      "execution_count": 105,
      "metadata": {},
      "outputs": [],
      "source": [
        "# not a single word in the text about it\n",
        "train_batch_idx = train_batch_idx.long()\n",
        "valid_batch_idx = valid_batch_idx.long()\n",
        "test_batch_idx = test_batch_idx.long()"
      ]
    },
    {
      "cell_type": "code",
      "execution_count": 110,
      "metadata": {},
      "outputs": [],
      "source": [
        "# You need to hate students in order to forget to mention that we need to convert labels to one-hot encoding\n",
        "train_labels = torch.nn.functional.one_hot(train_labels, 2).float()\n",
        "valid_labels = torch.nn.functional.one_hot(valid_labels, 2).float()\n",
        "test_labels = torch.nn.functional.one_hot(test_labels, 2).float()"
      ]
    },
    {
      "cell_type": "code",
      "execution_count": 119,
      "metadata": {
        "id": "9DbGAs8W2Xja"
      },
      "outputs": [
        {
          "name": "stdout",
          "output_type": "stream",
          "text": [
            "Epoch: 500/5000, Train Loss: 0.5431, Valid Loss: 0.4871, Valid Accuracy: 0.7658\n",
            "Epoch: 1000/5000, Train Loss: 0.4763, Valid Loss: 0.4144, Valid Accuracy: 0.8288\n",
            "Epoch: 1500/5000, Train Loss: 0.4681, Valid Loss: 0.4169, Valid Accuracy: 0.8018\n",
            "Epoch: 2000/5000, Train Loss: 0.4629, Valid Loss: 0.4209, Valid Accuracy: 0.7928\n",
            "Epoch: 2500/5000, Train Loss: 0.4577, Valid Loss: 0.4260, Valid Accuracy: 0.7928\n",
            "Epoch: 3000/5000, Train Loss: 0.4526, Valid Loss: 0.4351, Valid Accuracy: 0.8018\n",
            "Epoch: 3500/5000, Train Loss: 0.4457, Valid Loss: 0.4375, Valid Accuracy: 0.8018\n",
            "Epoch: 4000/5000, Train Loss: 0.4407, Valid Loss: 0.4424, Valid Accuracy: 0.8108\n",
            "Epoch: 4500/5000, Train Loss: 0.4367, Valid Loss: 0.4515, Valid Accuracy: 0.8108\n",
            "Epoch: 5000/5000, Train Loss: 0.4311, Valid Loss: 0.4538, Valid Accuracy: 0.8378\n"
          ]
        }
      ],
      "source": [
        "# If your runtime is GPU-enabled, use .to(device) to move the model\n",
        "# and all the relevant tensors to the GPU. You have to move tensors back to CPU\n",
        "# when computing metrics like accuracy, using .cpu().\n",
        "# device = torch.device('cuda') if torch.cuda.is_available() else 'cpu'\n",
        "device = 'cpu' # the cursed technology in some operatin did not support cuda\n",
        "\n",
        "model = GraphClassifier(train_features.shape[1], 32, 2).to(device)\n",
        "optimizer = torch.optim.Adam(model.parameters(), lr=1e-3)\n",
        "criterion = torch.nn.BCEWithLogitsLoss()\n",
        "\n",
        "epochs = 5000\n",
        "train_losses = []\n",
        "valid_losses = []\n",
        "valid_accuracies = []\n",
        "\n",
        "for epoch in range(epochs):\n",
        "    # training\n",
        "    model.train()\n",
        "    optimizer.zero_grad()\n",
        "    output = model(train_features.to(device), train_a_norm.to(device), train_batch_idx.to(device))\n",
        "    train_loss = criterion(output, train_labels.float().to(device))\n",
        "    train_loss.backward()\n",
        "    optimizer.step()\n",
        "    train_losses.append(train_loss.item())\n",
        "\n",
        "    # validation\n",
        "    model.eval()\n",
        "    valid_output = model(valid_features.to(device), valid_a_norm.to(device), valid_batch_idx.to(device))\n",
        "    valid_loss = criterion(valid_output, valid_labels.float().to(device))\n",
        "    valid_losses.append(valid_loss.item())\n",
        "    valid_pred = valid_output.argmax(dim=1)\n",
        "    valid_accuracy = (valid_pred == valid_labels.argmax(dim=1) ).sum().item() / valid_labels.size(0)\n",
        "    valid_accuracies.append(valid_accuracy)\n",
        "\n",
        "    # progress\n",
        "    if (epoch + 1) % 500 == 0:\n",
        "        print(f'Epoch: {epoch + 1}/{epochs}, Train Loss: {train_loss.item():.4f}, Valid Loss: {valid_loss.item():.4f}, Valid Accuracy: {valid_accuracy:.4f}')\n",
        "\n",
        "\n",
        "# Your answer here\n",
        "# as a result we see a wonderful example of overfitting\n",
        "# this homework is a great example of how to not give hints to students"
      ]
    },
    {
      "cell_type": "code",
      "execution_count": 120,
      "metadata": {},
      "outputs": [
        {
          "name": "stdout",
          "output_type": "stream",
          "text": [
            "Test Accuracy: 0.7411\n"
          ]
        }
      ],
      "source": [
        "model.eval()\n",
        "test_output = model(test_features.to(device), test_a_norm.to(device), test_batch_idx.to(device))\n",
        "test_pred = test_output.argmax(dim=1)\n",
        "test_accuracy = (test_pred == test_labels.argmax(dim=1) ).sum().item() / test_labels.size(0)\n",
        "print(f'Test Accuracy: {test_accuracy:.4f}')"
      ]
    },
    {
      "cell_type": "code",
      "execution_count": 121,
      "metadata": {},
      "outputs": [
        {
          "data": {
            "text/plain": [
              "Text(0.5, 1.0, 'Validation Acc.')"
            ]
          },
          "execution_count": 121,
          "metadata": {},
          "output_type": "execute_result"
        },
        {
          "data": {
            "image/png": "[encoded data removed]",
            "text/plain": [
              "<Figure size 1200x400 with 2 Axes>"
            ]
          },
          "metadata": {},
          "output_type": "display_data"
        }
      ],
      "source": [
        "# plot\n",
        "plt.figure(figsize=(12, 4))\n",
        "plt.subplot(1, 2, 1)\n",
        "plt.plot(train_losses, label='Training Loss')\n",
        "plt.plot(valid_losses, label='Validation Loss')\n",
        "plt.xlabel('Epoch')\n",
        "plt.ylabel('Loss')\n",
        "plt.title('Losses')\n",
        "plt.legend()\n",
        "\n",
        "plt.subplot(1, 2, 2)\n",
        "plt.plot(valid_accuracies, label='Validation Acc.', color='green')\n",
        "plt.xlabel('Epoch')\n",
        "plt.ylabel('Accuracy')\n",
        "plt.title('Validation Acc.')\n"
      ]
    },
    {
      "cell_type": "markdown",
      "metadata": {
        "id": "MvmAfDNMcnKD"
      },
      "source": [
        "## The end\n",
        "\n",
        "If you have made it all the way here successfully, congratulations! 🎉\n",
        "\n",
        "You have implemented your own GCN and tested it on a node classification task, and a more challenging classification task over multiple graphs.\n",
        "\n",
        "We hope you can use this knowledge to apply GCNs not only to the tasks described here, but other applications where data can be modeled as a graph.\n",
        "\n",
        "If you are interested in applying graph neural networks to larger graphs, or try newer architectures, you can dive deeper into [PyTorch Geometric](https://pytorch-geometric.readthedocs.io/en/latest/), a library with fast implementations for a wide range of architectures. It also comes with custom code that takes care of aspects that you dealt with manually for this assignment, like a more efficient implementation of the adjacency matrix multiplication via message-passing methods, and Data Loaders that relieve you from having to build block diagonal sparse matrices.\n",
        "\n",
        "You can also check the [Deep Graph Library](https://docs.dgl.ai/) another powerful library for deep learning on graphs which also integrates with other backends like TensorFlow."
      ]
    },
    {
      "cell_type": "markdown",
      "metadata": {
        "id": "l7QhyAMms8-L"
      },
      "source": [
        "# Grading (10pt)"
      ]
    },
    {
      "cell_type": "markdown",
      "metadata": {
        "id": "juIdxXhos-mV"
      },
      "source": [
        "- Question 1: 0.25pt\n",
        "- Question 2: 0.25pt\n",
        "- Question 3: 0.5pt\n",
        "- Question 4: 0.25pt\n",
        "- Question 5: 0.5pt\n",
        "- Question 6: 0.5pt\n",
        "- Question 7: 0.5pt\n",
        "- Question 8: 0.5pt\n",
        "- Question 9: 1.5pt\n",
        "- Question 10: 0.5pt\n",
        "- Question 11: 0.25pt\n",
        "- Question 12: 0.5pt\n",
        "- Question 13: 0.5pt\n",
        "- Question 14: 1pt\n",
        "- Question 15: 1pt\n",
        "- Question 16: 1.5pt"
      ]
    },
    {
      "cell_type": "markdown",
      "metadata": {
        "id": "CzikeWhW_EEG"
      },
      "source": []
    }
  ],
  "metadata": {
    "colab": {
      "include_colab_link": true,
      "provenance": [],
      "toc_visible": true
    },
    "kernelspec": {
      "display_name": "Python 3",
      "name": "python3"
    },
    "language_info": {
      "codemirror_mode": {
        "name": "ipython",
        "version": 3
      },
      "file_extension": ".py",
      "mimetype": "text/x-python",
      "name": "python",
      "nbconvert_exporter": "python",
      "pygments_lexer": "ipython3",
      "version": "3.9.18"
    }
  },
  "nbformat": 4,
  "nbformat_minor": 0
}
